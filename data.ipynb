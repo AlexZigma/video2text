{
 "cells": [
  {
   "cell_type": "code",
   "execution_count": 49,
   "metadata": {},
   "outputs": [],
   "source": [
    "import pandas as pd\n",
    "\n",
    "ds = pd.read_csv('data.csv', index_col=0)"
   ]
  },
  {
   "cell_type": "code",
   "execution_count": 61,
   "metadata": {},
   "outputs": [
    {
     "data": {
      "text/html": [
       "<div>\n",
       "<style scoped>\n",
       "    .dataframe tbody tr th:only-of-type {\n",
       "        vertical-align: middle;\n",
       "    }\n",
       "\n",
       "    .dataframe tbody tr th {\n",
       "        vertical-align: top;\n",
       "    }\n",
       "\n",
       "    .dataframe thead th {\n",
       "        text-align: right;\n",
       "    }\n",
       "</style>\n",
       "<table border=\"1\" class=\"dataframe\">\n",
       "  <thead>\n",
       "    <tr style=\"text-align: right;\">\n",
       "      <th></th>\n",
       "      <th>videoID</th>\n",
       "      <th>path</th>\n",
       "      <th>start</th>\n",
       "      <th>end</th>\n",
       "      <th>enCap</th>\n",
       "      <th>chCap</th>\n",
       "      <th>is_avalible</th>\n",
       "    </tr>\n",
       "  </thead>\n",
       "  <tbody>\n",
       "    <tr>\n",
       "      <th>1</th>\n",
       "      <td>CBL6uetTPHg</td>\n",
       "      <td>https://www.youtube.com/watch?v=CBL6uetTPHg</td>\n",
       "      <td>89</td>\n",
       "      <td>99</td>\n",
       "      <td>['A woman getting secured and another repellin...</td>\n",
       "      <td>['一群人正在围着很高的墙壁做攀岩。' '工作人员在给不同的人系安全带以保证他们的安全。'\\...</td>\n",
       "      <td>True</td>\n",
       "    </tr>\n",
       "    <tr>\n",
       "      <th>2</th>\n",
       "      <td>BiKRPPjAzvw</td>\n",
       "      <td>https://www.youtube.com/watch?v=BiKRPPjAzvw</td>\n",
       "      <td>17</td>\n",
       "      <td>27</td>\n",
       "      <td>['Two people abseil down a rope suspended from...</td>\n",
       "      <td>['有两个男子从吊机上降落到地面上。' '两个男人顺着高塔吊车的钢丝绳慢慢滑下来。' '两个...</td>\n",
       "      <td>True</td>\n",
       "    </tr>\n",
       "    <tr>\n",
       "      <th>4</th>\n",
       "      <td>yCKjqYxQn0E</td>\n",
       "      <td>https://www.youtube.com/watch?v=yCKjqYxQn0E</td>\n",
       "      <td>261</td>\n",
       "      <td>271</td>\n",
       "      <td>['A man lowers himself down a rock face next t...</td>\n",
       "      <td>['一个身穿黑色上衣蓝色裤子的人用安全绳在慢慢下山。' '一个男人头上戴着头盔手中抓了根绳子...</td>\n",
       "      <td>True</td>\n",
       "    </tr>\n",
       "    <tr>\n",
       "      <th>5</th>\n",
       "      <td>9eTXpQq9QTA</td>\n",
       "      <td>https://www.youtube.com/watch?v=9eTXpQq9QTA</td>\n",
       "      <td>126</td>\n",
       "      <td>136</td>\n",
       "      <td>['A person repels down a wooden tower on a rop...</td>\n",
       "      <td>['在一个晴朗的天气，一个带着安全帽的人在工作着。' '一个人拿着绳子正在从铁塔上方向下滑去...</td>\n",
       "      <td>True</td>\n",
       "    </tr>\n",
       "    <tr>\n",
       "      <th>6</th>\n",
       "      <td>qqJisE6m6XI</td>\n",
       "      <td>https://www.youtube.com/watch?v=qqJisE6m6XI</td>\n",
       "      <td>0</td>\n",
       "      <td>10</td>\n",
       "      <td>['A man is being lowered down from a cliff as ...</td>\n",
       "      <td>['一个穿着黄色衣服的人，从一个很高的地方，顺着一根绳子飘了下来。' '一个吊着绳子的人从上...</td>\n",
       "      <td>True</td>\n",
       "    </tr>\n",
       "    <tr>\n",
       "      <th>7</th>\n",
       "      <td>bd6eUL9prjI</td>\n",
       "      <td>https://www.youtube.com/watch?v=bd6eUL9prjI</td>\n",
       "      <td>102</td>\n",
       "      <td>112</td>\n",
       "      <td>['A person rappels down a tall rock climbing w...</td>\n",
       "      <td>['人们在围观一个人从高架桥上吊下来。' '不远处，一个男子在帮助一个悬挂在半空的人顺利下到...</td>\n",
       "      <td>True</td>\n",
       "    </tr>\n",
       "    <tr>\n",
       "      <th>8</th>\n",
       "      <td>6IbvOJxXnOo</td>\n",
       "      <td>https://www.youtube.com/watch?v=6IbvOJxXnOo</td>\n",
       "      <td>47</td>\n",
       "      <td>57</td>\n",
       "      <td>['Two people are rock climbing and are descend...</td>\n",
       "      <td>['一些人正在山壁的罅隙里小心地往下走。' '两个人吊着绳索在悬崖峭壁上作业。' '两个穿着...</td>\n",
       "      <td>True</td>\n",
       "    </tr>\n",
       "    <tr>\n",
       "      <th>9</th>\n",
       "      <td>f2uK1SvWf5A</td>\n",
       "      <td>https://www.youtube.com/watch?v=f2uK1SvWf5A</td>\n",
       "      <td>5</td>\n",
       "      <td>15</td>\n",
       "      <td>['Person wearing harness holds onto ropes whil...</td>\n",
       "      <td>['一个男人正顺着安全绳索从高处往下滑。' '一个男人佩戴安全设施，沿着绳子从建筑的高处往下...</td>\n",
       "      <td>True</td>\n",
       "    </tr>\n",
       "  </tbody>\n",
       "</table>\n",
       "</div>"
      ],
      "text/plain": [
       "       videoID                                         path  start  end  \\\n",
       "1  CBL6uetTPHg  https://www.youtube.com/watch?v=CBL6uetTPHg     89   99   \n",
       "2  BiKRPPjAzvw  https://www.youtube.com/watch?v=BiKRPPjAzvw     17   27   \n",
       "4  yCKjqYxQn0E  https://www.youtube.com/watch?v=yCKjqYxQn0E    261  271   \n",
       "5  9eTXpQq9QTA  https://www.youtube.com/watch?v=9eTXpQq9QTA    126  136   \n",
       "6  qqJisE6m6XI  https://www.youtube.com/watch?v=qqJisE6m6XI      0   10   \n",
       "7  bd6eUL9prjI  https://www.youtube.com/watch?v=bd6eUL9prjI    102  112   \n",
       "8  6IbvOJxXnOo  https://www.youtube.com/watch?v=6IbvOJxXnOo     47   57   \n",
       "9  f2uK1SvWf5A  https://www.youtube.com/watch?v=f2uK1SvWf5A      5   15   \n",
       "\n",
       "                                               enCap  \\\n",
       "1  ['A woman getting secured and another repellin...   \n",
       "2  ['Two people abseil down a rope suspended from...   \n",
       "4  ['A man lowers himself down a rock face next t...   \n",
       "5  ['A person repels down a wooden tower on a rop...   \n",
       "6  ['A man is being lowered down from a cliff as ...   \n",
       "7  ['A person rappels down a tall rock climbing w...   \n",
       "8  ['Two people are rock climbing and are descend...   \n",
       "9  ['Person wearing harness holds onto ropes whil...   \n",
       "\n",
       "                                               chCap  is_avalible  \n",
       "1  ['一群人正在围着很高的墙壁做攀岩。' '工作人员在给不同的人系安全带以保证他们的安全。'\\...         True  \n",
       "2  ['有两个男子从吊机上降落到地面上。' '两个男人顺着高塔吊车的钢丝绳慢慢滑下来。' '两个...         True  \n",
       "4  ['一个身穿黑色上衣蓝色裤子的人用安全绳在慢慢下山。' '一个男人头上戴着头盔手中抓了根绳子...         True  \n",
       "5  ['在一个晴朗的天气，一个带着安全帽的人在工作着。' '一个人拿着绳子正在从铁塔上方向下滑去...         True  \n",
       "6  ['一个穿着黄色衣服的人，从一个很高的地方，顺着一根绳子飘了下来。' '一个吊着绳子的人从上...         True  \n",
       "7  ['人们在围观一个人从高架桥上吊下来。' '不远处，一个男子在帮助一个悬挂在半空的人顺利下到...         True  \n",
       "8  ['一些人正在山壁的罅隙里小心地往下走。' '两个人吊着绳索在悬崖峭壁上作业。' '两个穿着...         True  \n",
       "9  ['一个男人正顺着安全绳索从高处往下滑。' '一个男人佩戴安全设施，沿着绳子从建筑的高处往下...         True  "
      ]
     },
     "execution_count": 61,
     "metadata": {},
     "output_type": "execute_result"
    }
   ],
   "source": [
    "ds"
   ]
  },
  {
   "cell_type": "code",
   "execution_count": 56,
   "metadata": {},
   "outputs": [],
   "source": [
    "import os\n",
    "from pytube import YouTube\n",
    "\n",
    "def is_avalible(item):\n",
    "    # print(item)\n",
    "    url = item['path']\n",
    "    id = item['videoID']\n",
    "    yt = YouTube(url)\n",
    "    path = f'train/video_{id}.mp4'\n",
    "    if os.path.exists(path):\n",
    "        return True\n",
    "    try:\n",
    "        yt.check_availability()\n",
    "        video = yt.streams.get_lowest_resolution()\n",
    "        video.download(filename=path)\n",
    "        return True\n",
    "    except Exception as e:\n",
    "        return False"
   ]
  },
  {
   "cell_type": "code",
   "execution_count": 57,
   "metadata": {},
   "outputs": [],
   "source": [
    "ds['is_avalible'] = ds.apply(is_avalible, axis=1)"
   ]
  },
  {
   "cell_type": "code",
   "execution_count": 55,
   "metadata": {},
   "outputs": [
    {
     "data": {
      "text/plain": [
       "True"
      ]
     },
     "execution_count": 55,
     "metadata": {},
     "output_type": "execute_result"
    }
   ],
   "source": [
    "is_avalible(ds.iloc[3])"
   ]
  },
  {
   "cell_type": "code",
   "execution_count": 59,
   "metadata": {},
   "outputs": [],
   "source": [
    "ds = ds[ds['is_avalible']]"
   ]
  },
  {
   "cell_type": "code",
   "execution_count": 60,
   "metadata": {},
   "outputs": [],
   "source": [
    "ds.to_csv('data.csv')"
   ]
  }
 ],
 "metadata": {
  "kernelspec": {
   "display_name": "Python 3",
   "language": "python",
   "name": "python3"
  },
  "language_info": {
   "codemirror_mode": {
    "name": "ipython",
    "version": 3
   },
   "file_extension": ".py",
   "mimetype": "text/x-python",
   "name": "python",
   "nbconvert_exporter": "python",
   "pygments_lexer": "ipython3",
   "version": "3.11.2"
  },
  "orig_nbformat": 4
 },
 "nbformat": 4,
 "nbformat_minor": 2
}
